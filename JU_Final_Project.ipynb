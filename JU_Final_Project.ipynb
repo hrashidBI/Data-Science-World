{
  "nbformat": 4,
  "nbformat_minor": 0,
  "metadata": {
    "colab": {
      "provenance": [],
      "authorship_tag": "ABX9TyNSa5kKM8OkgGQcXHClgzGh",
      "include_colab_link": true
    },
    "kernelspec": {
      "name": "python3",
      "display_name": "Python 3"
    },
    "language_info": {
      "name": "python"
    }
  },
  "cells": [
    {
      "cell_type": "markdown",
      "metadata": {
        "id": "view-in-github",
        "colab_type": "text"
      },
      "source": [
        "<a href=\"https://colab.research.google.com/github/hrashidBI/Data-Science-World/blob/main/JU_Final_Project.ipynb\" target=\"_parent\"><img src=\"https://colab.research.google.com/assets/colab-badge.svg\" alt=\"Open In Colab\"/></a>"
      ]
    },
    {
      "cell_type": "code",
      "execution_count": null,
      "metadata": {
        "id": "NEJLg8y757oA"
      },
      "outputs": [],
      "source": [
        "import pandas as pd"
      ]
    },
    {
      "cell_type": "code",
      "source": [
        "data = pd.read_excel('/content/sample_data/Sales data set 2014 to 2023 upto may.xlsx')"
      ],
      "metadata": {
        "id": "JK-4bXTW71VV"
      },
      "execution_count": null,
      "outputs": []
    },
    {
      "cell_type": "code",
      "source": [
        "print(data.head())"
      ],
      "metadata": {
        "colab": {
          "base_uri": "https://localhost:8080/"
        },
        "id": "lO2khbu3Bgey",
        "outputId": "ebe141a2-2f47-4ad3-9b3e-3999149d129e"
      },
      "execution_count": null,
      "outputs": [
        {
          "output_type": "stream",
          "name": "stdout",
          "text": [
            "  DistrictName  ThanaName             PGName MAGName    ASGName AGName  \\\n",
            "0  Dhaka Metro     Mirpur  Consumer Lighting     CFL  CFL-Power    65W   \n",
            "1  Dhaka Metro  Sabujbagh  Consumer Lighting     CFL        CFL    30W   \n",
            "2  Dhaka Metro  Sabujbagh  Consumer Lighting     CFL        CFL    23W   \n",
            "3  Dhaka Metro  Sabujbagh  Consumer Lighting     GLS   GLS-Bulb    25W   \n",
            "4  Dhaka Metro  Sabujbagh  Consumer Lighting     CFL        CFL     8W   \n",
            "\n",
            "   ProductCode                          ProductName  SalesMonth  salesyear  \\\n",
            "0        14219  Transtec CFL 65w E27 Cool Day Light           6       2014   \n",
            "1        14216             Transtec 30w HPF B22 CDL           6       2014   \n",
            "2        14211             Transtec 23w HPF E27 CDL           6       2014   \n",
            "3         1001                    Philips 25w Clear           6       2014   \n",
            "4        14202              Transtec 8w HPF E27 CDL           6       2014   \n",
            "\n",
            "   SalesQty  \n",
            "0         8  \n",
            "1      3466  \n",
            "2       615  \n",
            "3       444  \n",
            "4       634  \n"
          ]
        }
      ]
    },
    {
      "cell_type": "code",
      "source": [
        "print(data.info())"
      ],
      "metadata": {
        "colab": {
          "base_uri": "https://localhost:8080/"
        },
        "id": "I0xuEmM_BlSg",
        "outputId": "d1308c74-c5dd-485f-a04a-dd3e77ca13b8"
      },
      "execution_count": null,
      "outputs": [
        {
          "output_type": "stream",
          "name": "stdout",
          "text": [
            "<class 'pandas.core.frame.DataFrame'>\n",
            "RangeIndex: 616225 entries, 0 to 616224\n",
            "Data columns (total 11 columns):\n",
            " #   Column        Non-Null Count   Dtype \n",
            "---  ------        --------------   ----- \n",
            " 0   DistrictName  616225 non-null  object\n",
            " 1   ThanaName     616225 non-null  object\n",
            " 2   PGName        616225 non-null  object\n",
            " 3   MAGName       616225 non-null  object\n",
            " 4   ASGName       616225 non-null  object\n",
            " 5   AGName        616225 non-null  object\n",
            " 6   ProductCode   616225 non-null  int64 \n",
            " 7   ProductName   616225 non-null  object\n",
            " 8   SalesMonth    616225 non-null  int64 \n",
            " 9   salesyear     616225 non-null  int64 \n",
            " 10  SalesQty      616225 non-null  int64 \n",
            "dtypes: int64(4), object(7)\n",
            "memory usage: 51.7+ MB\n",
            "None\n"
          ]
        }
      ]
    },
    {
      "cell_type": "code",
      "source": [
        "print(data.describe())"
      ],
      "metadata": {
        "colab": {
          "base_uri": "https://localhost:8080/"
        },
        "id": "5tVZ59yeBrDp",
        "outputId": "fc6c7de1-f6a0-471d-e315-31e5db85dd4f"
      },
      "execution_count": null,
      "outputs": [
        {
          "output_type": "stream",
          "name": "stdout",
          "text": [
            "         ProductCode     SalesMonth      salesyear       SalesQty\n",
            "count  616225.000000  616225.000000  616225.000000  616225.000000\n",
            "mean    68949.385940       6.427120    2019.087004     239.853175\n",
            "std    170496.710799       3.500507       2.284978     746.548180\n",
            "min      1001.000000       1.000000    2014.000000       0.000000\n",
            "25%      1260.000000       3.000000    2017.000000      12.000000\n",
            "50%     12651.000000       6.000000    2019.000000      48.000000\n",
            "75%     71117.000000      10.000000    2021.000000     168.000000\n",
            "max    713941.000000      12.000000    2023.000000   41467.000000\n"
          ]
        }
      ]
    },
    {
      "cell_type": "code",
      "source": [
        "data.dropna(inplace=True)"
      ],
      "metadata": {
        "id": "pBaZhGl2B6HQ"
      },
      "execution_count": null,
      "outputs": []
    },
    {
      "cell_type": "code",
      "source": [
        "X = data.drop('SalesQty', axis=1)\n",
        "y = data['SalesQty']"
      ],
      "metadata": {
        "id": "thqsc8iLB8jB"
      },
      "execution_count": null,
      "outputs": []
    },
    {
      "cell_type": "code",
      "source": [
        "import matplotlib.pyplot as plt\n",
        "import seaborn as sns"
      ],
      "metadata": {
        "id": "7jRBy3FRCG-1"
      },
      "execution_count": null,
      "outputs": []
    },
    {
      "cell_type": "code",
      "source": [
        "plt.figure(figsize=(8, 6))\n",
        "sns.histplot(data['SalesQty'], kde=True)\n",
        "plt.title('Distribution of Sales Quantity')\n",
        "plt.xlabel('Sales Quantity')\n",
        "plt.ylabel('Count')\n",
        "plt.show()"
      ],
      "metadata": {
        "colab": {
          "base_uri": "https://localhost:8080/",
          "height": 564
        },
        "id": "Avg89ETwB-8F",
        "outputId": "e9fb6408-d28c-4572-f31c-3eebae534a8a"
      },
      "execution_count": null,
      "outputs": [
        {
          "output_type": "display_data",
          "data": {
            "text/plain": [
              "<Figure size 800x600 with 1 Axes>"
            ],
            "image/png": "[encoded data removed]"
          },
          "metadata": {}
        }
      ]
    }
  ]
}